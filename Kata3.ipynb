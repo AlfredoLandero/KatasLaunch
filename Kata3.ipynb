{
 "cells": [
  {
   "cell_type": "markdown",
   "metadata": {},
   "source": [
    "KATA3\n"
   ]
  },
  {
   "cell_type": "markdown",
   "metadata": {},
   "source": [
    "#ejercicio1"
   ]
  },
  {
   "cell_type": "code",
   "execution_count": 3,
   "metadata": {},
   "outputs": [
    {
     "name": "stdout",
     "output_type": "stream",
     "text": [
      "amenaza menor\n"
     ]
    }
   ],
   "source": [
    "asteroide = 49 #km/s\n",
    "\n",
    "if asteroide >= 25:\n",
    "     print(\"peligro de impacto\")\n",
    "else:\n",
    "    print(\"amenaza menor\")\n"
   ]
  },
  {
   "cell_type": "markdown",
   "metadata": {},
   "source": [
    "#ejercicio2"
   ]
  },
  {
   "cell_type": "code",
   "execution_count": 12,
   "metadata": {},
   "outputs": [
    {
     "name": "stdout",
     "output_type": "stream",
     "text": [
      "rayo de luz\n"
     ]
    }
   ],
   "source": [
    "asteroidev = 21 #km/s\n",
    "\n",
    "if asteroidev >= 21:\n",
    "     print(\"rayo de luz\")\n",
    "elif asteroidev == 20:\n",
    "     print(\"posible rayo de luz\")\n",
    "else:\n",
    "    print(\"asteroide sin rayo de luz\")"
   ]
  },
  {
   "cell_type": "markdown",
   "metadata": {},
   "source": [
    "#ejercicio3\n"
   ]
  },
  {
   "cell_type": "code",
   "execution_count": 18,
   "metadata": {},
   "outputs": [
    {
     "name": "stdout",
     "output_type": "stream",
     "text": [
      "nada que temer o ver\n"
     ]
    }
   ],
   "source": [
    "tamaño = 0 #metros\n",
    "velocidad = 0 #km/s\n",
    "\n",
    "if tamaño > 25 and tamaño < 1000 and velocidad > 25:\n",
    "    print(\"asteroide super peligroso\")\n",
    "elif velocidad > 20 and velocidad < 25 and tamaño < 25:\n",
    "    print(\"rayo de luz por asteroide\")\n",
    "elif velocidad > 20 and velocidad < 25 and tamaño > 25:\n",
    "    print(\"asteroide de gran tamaño\")\n",
    "else:\n",
    "    print(\"nada que temer o ver\")"
   ]
  }
 ],
 "metadata": {
  "interpreter": {
   "hash": "573a8c0375a01a813bc6d0b5703765454be46f2d9f8e5d1e615003b7eca7e288"
  },
  "kernelspec": {
   "display_name": "Python 3.8.0 64-bit",
   "language": "python",
   "name": "python3"
  },
  "language_info": {
   "codemirror_mode": {
    "name": "ipython",
    "version": 3
   },
   "file_extension": ".py",
   "mimetype": "text/x-python",
   "name": "python",
   "nbconvert_exporter": "python",
   "pygments_lexer": "ipython3",
   "version": "3.8.0"
  },
  "orig_nbformat": 4
 },
 "nbformat": 4,
 "nbformat_minor": 2
}
