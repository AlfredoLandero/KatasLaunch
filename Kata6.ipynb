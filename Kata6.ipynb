{
 "cells": [
  {
   "cell_type": "markdown",
   "metadata": {},
   "source": [
    "Ejercicio 1"
   ]
  },
  {
   "cell_type": "code",
   "execution_count": 5,
   "metadata": {},
   "outputs": [
    {
     "name": "stdout",
     "output_type": "stream",
     "text": [
      "ultimo planeta: Neptuno\n",
      "cantidad de planetas: 8\n",
      "ultimo planeta: pluto\n",
      "cantidad de planetas: 9\n"
     ]
    }
   ],
   "source": [
    "planets = ['Mercurio', 'Venus', 'Tierra', 'Marte', 'Jupiter', 'Saturno', 'Urano', 'Neptuno']\n",
    "\n",
    "print(\"ultimo planeta:\", planets[-1])\n",
    "print(\"cantidad de planetas:\", len(planets))\n",
    "\n",
    "planets.append(\"pluto\")\n",
    "print(\"ultimo planeta:\", planets[-1])\n",
    "print(\"cantidad de planetas:\", len(planets))"
   ]
  },
  {
   "cell_type": "markdown",
   "metadata": {},
   "source": [
    "Ejercicio 2 "
   ]
  },
  {
   "cell_type": "code",
   "execution_count": 12,
   "metadata": {},
   "outputs": [
    {
     "name": "stdout",
     "output_type": "stream",
     "text": [
      "3\n",
      "planetas mas cercanos: ['Mercurio', 'Venus', 'Tierra']\n",
      "planetas mas lejanos: ['Jupiter', 'Saturno', 'Urano', 'Neptuno']\n"
     ]
    }
   ],
   "source": [
    "planets = ['Mercurio', 'Venus', 'Tierra', 'Marte', 'Jupiter', 'Saturno', 'Urano', 'Neptuno']\n",
    "\n",
    "nomplaneta = input(\"ingresa el nombre de un planeta(inicia con mayuscula y continua con minusculas)\")\n",
    "indic = planets.index(nomplaneta)\n",
    "print(indic)\n",
    "\n",
    "print(\"planetas mas cercanos:\", planets [:indic])\n",
    "print(\"planetas mas lejanos:\", planets [indic+1:])"
   ]
  }
 ],
 "metadata": {
  "interpreter": {
   "hash": "573a8c0375a01a813bc6d0b5703765454be46f2d9f8e5d1e615003b7eca7e288"
  },
  "kernelspec": {
   "display_name": "Python 3.8.0 64-bit",
   "language": "python",
   "name": "python3"
  },
  "language_info": {
   "codemirror_mode": {
    "name": "ipython",
    "version": 3
   },
   "file_extension": ".py",
   "mimetype": "text/x-python",
   "name": "python",
   "nbconvert_exporter": "python",
   "pygments_lexer": "ipython3",
   "version": "3.8.0"
  },
  "orig_nbformat": 4
 },
 "nbformat": 4,
 "nbformat_minor": 2
}
