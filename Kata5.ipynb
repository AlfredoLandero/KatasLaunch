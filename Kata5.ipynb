{
 "cells": [
  {
   "cell_type": "markdown",
   "metadata": {},
   "source": [
    "Ejercicio 1"
   ]
  },
  {
   "cell_type": "code",
   "execution_count": 17,
   "metadata": {},
   "outputs": [
    {
     "name": "stdout",
     "output_type": "stream",
     "text": [
      "628949330\n",
      "390577534\n"
     ]
    }
   ],
   "source": [
    "from math import ceil, floor\n",
    "\n",
    "Tierra = 149597870 #km\n",
    "Júpiter = 778547200 #km\n",
    "\n",
    "distanciak = (Júpiter-Tierra)\n",
    "distanciam = (Júpiter-Tierra)*0.621\n",
    "print((distanciak))\n",
    "print(ceil(distanciam))\n"
   ]
  },
  {
   "cell_type": "markdown",
   "metadata": {},
   "source": [
    "Ejercicio 2"
   ]
  },
  {
   "cell_type": "code",
   "execution_count": 23,
   "metadata": {},
   "outputs": [
    {
     "name": "stdout",
     "output_type": "stream",
     "text": [
      "5 kilometros\n",
      "3.105 millas\n"
     ]
    }
   ],
   "source": [
    "planeta1 = input(\"Distancia al sol\")\n",
    "planeta2 = input(\"Distancia al sol\")\n",
    "\n",
    "n1 = int(planeta1)\n",
    "n2 = int(planeta2)\n",
    "\n",
    "distanciap = abs(n1-n2)#km\n",
    "distanciami = distanciap*0.621\n",
    "\n",
    "print(distanciap, \"kilometros\")\n",
    "print(distanciami, \"millas\")\n",
    "\n"
   ]
  }
 ],
 "metadata": {
  "interpreter": {
   "hash": "573a8c0375a01a813bc6d0b5703765454be46f2d9f8e5d1e615003b7eca7e288"
  },
  "kernelspec": {
   "display_name": "Python 3.8.0 64-bit",
   "language": "python",
   "name": "python3"
  },
  "language_info": {
   "codemirror_mode": {
    "name": "ipython",
    "version": 3
   },
   "file_extension": ".py",
   "mimetype": "text/x-python",
   "name": "python",
   "nbconvert_exporter": "python",
   "pygments_lexer": "ipython3",
   "version": "3.8.0"
  },
  "orig_nbformat": 4
 },
 "nbformat": 4,
 "nbformat_minor": 2
}
