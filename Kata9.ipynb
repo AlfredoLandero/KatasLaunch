{
 "cells": [
  {
   "cell_type": "code",
   "execution_count": 52,
   "metadata": {},
   "outputs": [
    {
     "name": "stdout",
     "output_type": "stream",
     "text": [
      "combustible:\n",
      "    promedio: 10.0L\n",
      "    Tanque1: 10L\n",
      "    Tanque2: 10L\n",
      "    Tanque3: 10L\n",
      "    \n"
     ]
    }
   ],
   "source": [
    "tanque1 = input('combustible total en tanque 1')\n",
    "tanque2 = input('combustible total en tanque 2')\n",
    "tanque3 = input('combustible total en tanque 3')\n",
    "tanque11 = int(tanque1)\n",
    "tanque22 = int(tanque2)\n",
    "tanque33 = int(tanque3)\n",
    "\n",
    "def tanques(tanque11, tanque22, tanque33):\n",
    "    total = tanque11 + tanque22 + tanque33\n",
    "    prom = total/3\n",
    "    return prom\n",
    "\n",
    "prom = tanques(tanque11, tanque22, tanque33)\n",
    "def reporte(tanque11, tanque22, tanque33):\n",
    "    return f\"\"\"combustible:\n",
    "    promedio: {prom}L\n",
    "    Tanque1: {tanque11}L\n",
    "    Tanque2: {tanque22}L\n",
    "    Tanque3: {tanque33}L\n",
    "    \"\"\"\n",
    "print(reporte(tanque11, tanque22, tanque33))"
   ]
  },
  {
   "cell_type": "code",
   "execution_count": 54,
   "metadata": {},
   "outputs": [
    {
     "name": "stdout",
     "output_type": "stream",
     "text": [
      "\n",
      "    Destino: Tierra\n",
      "    Tiempo de vuelo 73minutos\n",
      "    Total de combustible: 110000L\n",
      "    \n",
      "\n",
      "    Destino: Tierra\n",
      "    Tiempo de viaje: 99 minutes\n",
      "    Total de combustible: 38000\n",
      "    \n"
     ]
    }
   ],
   "source": [
    "def report(tiempol, tiempov, destino1, tanquee1, tanquee2 ):\n",
    "    return f\"\"\"\n",
    "    Destino: {destino1}\n",
    "    Tiempo de vuelo {tiempol + tiempov}minutos\n",
    "    Total de combustible: {tanquee1 + tanquee2}L\n",
    "    \"\"\"\n",
    "\n",
    "print(report(23, 50, \"Tierra\", 50000, 60000))\n",
    "\n",
    "def report(destino, *minutos, **combustible):\n",
    "    return f\"\"\"\n",
    "    Destino: {destino}\n",
    "    Tiempo de viaje: {sum(minutos)} minutes\n",
    "    Total de combustible: {sum(combustible.values())}\n",
    "    \"\"\"\n",
    "\n",
    "print(report(\"Tierra\", 16, 8, 75, tanquer = 30000, tanquet=8000))\n",
    "\n"
   ]
  },
  {
   "cell_type": "code",
   "execution_count": 57,
   "metadata": {},
   "outputs": [
    {
     "name": "stdout",
     "output_type": "stream",
     "text": [
      "\n",
      "    Destino: Moon\n",
      "    Total travel time: 74 minutes\n",
      "    Total fuel left: 500000\n",
      "    main tank --> 300000Lexternal tank --> 200000L\n"
     ]
    }
   ],
   "source": [
    "def mission_report(destino, *minutos, **combustible):\n",
    "    ret = f\"\"\"\n",
    "    Destino: {destino}\n",
    "    Total travel time: {sum(minutos)} minutes\n",
    "    Total fuel left: {sum(combustible.values())}\n",
    "    \"\"\"\n",
    "    for nombre, L in combustible.items():\n",
    "        ret += f\"{nombre} tank --> {L}L\"\n",
    "    return ret\n",
    "\n",
    "print(mission_report(\"Moon\", 8, 11, 55, main=300000, external=200000))"
   ]
  }
 ],
 "metadata": {
  "interpreter": {
   "hash": "573a8c0375a01a813bc6d0b5703765454be46f2d9f8e5d1e615003b7eca7e288"
  },
  "kernelspec": {
   "display_name": "Python 3.8.0 64-bit",
   "language": "python",
   "name": "python3"
  },
  "language_info": {
   "codemirror_mode": {
    "name": "ipython",
    "version": 3
   },
   "file_extension": ".py",
   "mimetype": "text/x-python",
   "name": "python",
   "nbconvert_exporter": "python",
   "pygments_lexer": "ipython3",
   "version": "3.8.0"
  },
  "orig_nbformat": 4
 },
 "nbformat": 4,
 "nbformat_minor": 2
}
